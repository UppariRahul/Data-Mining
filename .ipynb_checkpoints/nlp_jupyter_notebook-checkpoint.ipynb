{
 "cells": [
  {
   "cell_type": "code",
   "execution_count": null,
   "metadata": {},
   "outputs": [],
   "source": [
    "# CA 02\n",
    "# Module: B9DA103 Data Mining\n",
    "# Group B\n",
    "# Subramaniam Kazhuparambil (10524303)\n",
    "# Rahul Ramchandra Uppari (10523807)\n",
    "# Mukund Bulchandani (10525778)"
   ]
  },
  {
   "cell_type": "code",
   "execution_count": 1,
   "metadata": {},
   "outputs": [],
   "source": [
    "# Libraries used\n",
    "\n",
    "from sklearn.feature_extraction.text import TfidfVectorizer\n",
    "import pandas as pd\n",
    "import numpy as np\n",
    "from sklearn.metrics import accuracy_score\n",
    "from sklearn.model_selection import train_test_split\n",
    "from scipy.sparse import hstack\n",
    "from sklearn.model_selection import KFold\n",
    "from sklearn.model_selection import cross_val_score\n",
    "from sklearn.neighbors import KNeighborsClassifier\n",
    "from sklearn.svm import SVC\n",
    "from sklearn import tree\n",
    "from sklearn.ensemble import RandomForestClassifier\n",
    "from sklearn.naive_bayes import GaussianNB"
   ]
  },
  {
   "cell_type": "code",
   "execution_count": 2,
   "metadata": {},
   "outputs": [
    {
     "name": "stdout",
     "output_type": "stream",
     "text": [
      "(1989, 27)\n",
      "         Date  Label                                               Top1  \\\n",
      "0  2008-08-08      0  b\"Georgia 'downs two Russian warplanes' as cou...   \n",
      "1  2008-08-11      1  b'Why wont America and Nato help us? If they w...   \n",
      "2  2008-08-12      0  b'Remember that adorable 9-year-old who sang a...   \n",
      "3  2008-08-13      0  b' U.S. refuses Israel weapons to attack Iran:...   \n",
      "4  2008-08-14      1  b'All the experts admit that we should legalis...   \n",
      "\n",
      "                                                Top2  \\\n",
      "0            b'BREAKING: Musharraf to be impeached.'   \n",
      "1        b'Bush puts foot down on Georgian conflict'   \n",
      "2                 b\"Russia 'ends Georgia operation'\"   \n",
      "3  b\"When the president ordered to attack Tskhinv...   \n",
      "4  b'War in South Osetia - 89 pictures made by a ...   \n",
      "\n",
      "                                                Top3  \\\n",
      "0  b'Russia Today: Columns of troops roll into So...   \n",
      "1  b\"Jewish Georgian minister: Thanks to Israeli ...   \n",
      "2  b'\"If we had no sexual harassment we would hav...   \n",
      "3  b' Israel clears troops who killed Reuters cam...   \n",
      "4  b'Swedish wrestler Ara Abrahamian throws away ...   \n",
      "\n",
      "                                                Top4  \\\n",
      "0  b'Russian tanks are moving towards the capital...   \n",
      "1  b'Georgian army flees in disarray as Russians ...   \n",
      "2  b\"Al-Qa'eda is losing support in Iraq because ...   \n",
      "3  b'Britain\\'s policy of being tough on drugs is...   \n",
      "4  b'Russia exaggerated the death toll in South O...   \n",
      "\n",
      "                                                Top5  \\\n",
      "0  b\"Afghan children raped with 'impunity,' U.N. ...   \n",
      "1      b\"Olympic opening ceremony fireworks 'faked'\"   \n",
      "2  b'Ceasefire in Georgia: Putin Outmaneuvers the...   \n",
      "3  b'Body of 14 year old found in trunk; Latest (...   \n",
      "4  b'Missile That Killed 9 Inside Pakistan May Ha...   \n",
      "\n",
      "                                                Top6  \\\n",
      "0  b'150 Russian tanks have entered South Ossetia...   \n",
      "1  b'What were the Mossad with fraudulent New Zea...   \n",
      "2  b'Why Microsoft and Intel tried to kill the XO...   \n",
      "3  b'China has moved 10 *million* quake survivors...   \n",
      "4  b\"Rushdie Condemns Random House's Refusal to P...   \n",
      "\n",
      "                                                Top7  \\\n",
      "0  b\"Breaking: Georgia invades South Ossetia, Rus...   \n",
      "1  b'Russia angered by Israeli military sale to G...   \n",
      "2  b'Stratfor: The Russo-Georgian War and the Bal...   \n",
      "3  b\"Bush announces Operation Get All Up In Russi...   \n",
      "4  b'Poland and US agree to missle defense deal. ...   \n",
      "\n",
      "                                                Top8  ...  \\\n",
      "0  b\"The 'enemy combatent' trials are nothing but...  ...   \n",
      "1  b'An American citizen living in S.Ossetia blam...  ...   \n",
      "2  b\"I'm Trying to Get a Sense of This Whole Geor...  ...   \n",
      "3             b'Russian forces sink Georgian ships '  ...   \n",
      "4  b'Will the Russians conquer Tblisi? Bet on it,...  ...   \n",
      "\n",
      "                                               Top16  \\\n",
      "0  b'Georgia Invades South Ossetia - if Russia ge...   \n",
      "1  b'Israel and the US behind the Georgian aggres...   \n",
      "2  b'U.S. troops still in Georgia (did you know t...   \n",
      "3                      b'Elephants extinct by 2020?'   \n",
      "4  b'Bank analyst forecast Georgian crisis 2 days...   \n",
      "\n",
      "                                               Top17  \\\n",
      "0                b'Al-Qaeda Faces Islamist Backlash'   \n",
      "1  b'\"Do not believe TV, neither Russian nor Geor...   \n",
      "2       b'Why Russias response to Georgia was right'   \n",
      "3  b'US humanitarian missions soon in Georgia - i...   \n",
      "4  b\"Georgia confict could set back Russia's US r...   \n",
      "\n",
      "                                               Top18  \\\n",
      "0  b'Condoleezza Rice: \"The US would not act to p...   \n",
      "1  b'Riots are still going on in Montreal (Canada...   \n",
      "2  b'Gorbachev accuses U.S. of making a \"serious ...   \n",
      "3             b\"Georgia's DDOS came from US sources\"   \n",
      "4  b'War in the Caucasus is as much the product o...   \n",
      "\n",
      "                                               Top19  \\\n",
      "0  b'This is a busy day:  The European Union has ...   \n",
      "1    b'China to overtake US as largest manufacturer'   \n",
      "2         b'Russia, Georgia, and NATO: Cold War Two'   \n",
      "3  b'Russian convoy heads into Georgia, violating...   \n",
      "4  b'\"Non-media\" photos of South Ossetia/Georgia ...   \n",
      "\n",
      "                                               Top20  \\\n",
      "0  b\"Georgia will withdraw 1,000 soldiers from Ir...   \n",
      "1                     b'War in South Ossetia [PICS]'   \n",
      "2  b'Remember that adorable 62-year-old who led y...   \n",
      "3  b'Israeli defence minister: US against strike ...   \n",
      "4  b'Georgian TV reporter shot by Russian sniper ...   \n",
      "\n",
      "                                               Top21  \\\n",
      "0  b'Why the Pentagon Thinks Attacking Iran is a ...   \n",
      "1  b'Israeli Physicians Group Condemns State Tort...   \n",
      "2          b'War in Georgia: The Israeli connection'   \n",
      "3                     b'Gorbachev: We Had No Choice'   \n",
      "4  b'Saudi Arabia: Mother moves to block child ma...   \n",
      "\n",
      "                                               Top22  \\\n",
      "0  b'Caucasus in crisis: Georgia invades South Os...   \n",
      "1  b' Russia has just beaten the United States ov...   \n",
      "2  b'All signs point to the US encouraging Georgi...   \n",
      "3  b'Witness: Russian forces head towards Tbilisi...   \n",
      "4   b'Taliban wages war on humanitarian aid workers'   \n",
      "\n",
      "                                               Top23  \\\n",
      "0  b'Indian shoe manufactory  - And again in a se...   \n",
      "1  b'Perhaps *the* question about the Georgia - R...   \n",
      "2  b'Christopher King argues that the US and NATO...   \n",
      "3  b' Quarter of Russians blame U.S. for conflict...   \n",
      "4  b'Russia: World  \"can forget about\" Georgia\\'s...   \n",
      "\n",
      "                                               Top24  \\\n",
      "0  b'Visitors Suffering from Mental Illnesses Ban...   \n",
      "1                 b'Russia is so much better at war'   \n",
      "2                        b'America: The New Mexico?'   \n",
      "3  b'Georgian president  says US military will ta...   \n",
      "4  b'Darfur rebels accuse Sudan of mounting major...   \n",
      "\n",
      "                                               Top25  \n",
      "0           b\"No Help for Mexico's Kidnapping Surge\"  \n",
      "1  b\"So this is what it's come to: trading sex fo...  \n",
      "2  b\"BBC NEWS | Asia-Pacific | Extinction 'by man...  \n",
      "3  b'2006: Nobel laureate Aleksander Solzhenitsyn...  \n",
      "4  b'Philippines : Peace Advocate say Muslims nee...  \n",
      "\n",
      "[5 rows x 27 columns]\n"
     ]
    }
   ],
   "source": [
    "# Importing the news headlines data\n",
    "\n",
    "news_data = pd.read_csv(\"Combined_News_DJIA.csv\")\n",
    "\n",
    "print(news_data.shape)\n",
    "print(news_data.head())"
   ]
  },
  {
   "cell_type": "code",
   "execution_count": 3,
   "metadata": {},
   "outputs": [
    {
     "name": "stdout",
     "output_type": "stream",
     "text": [
      "         Date  Label                                               Top1  \\\n",
      "0  2008-08-08      0  b\"Georgia 'downs two Russian warplanes' as cou...   \n",
      "1  2008-08-11      1  b'Why wont America and Nato help us? If they w...   \n",
      "2  2008-08-12      0  b'Remember that adorable 9-year-old who sang a...   \n",
      "3  2008-08-13      0  b' U.S. refuses Israel weapons to attack Iran:...   \n",
      "4  2008-08-14      1  b'All the experts admit that we should legalis...   \n",
      "\n",
      "                                                Top2  \\\n",
      "0            b'BREAKING: Musharraf to be impeached.'   \n",
      "1        b'Bush puts foot down on Georgian conflict'   \n",
      "2                 b\"Russia 'ends Georgia operation'\"   \n",
      "3  b\"When the president ordered to attack Tskhinv...   \n",
      "4  b'War in South Osetia - 89 pictures made by a ...   \n",
      "\n",
      "                                                Top3  \\\n",
      "0  b'Russia Today: Columns of troops roll into So...   \n",
      "1  b\"Jewish Georgian minister: Thanks to Israeli ...   \n",
      "2  b'\"If we had no sexual harassment we would hav...   \n",
      "3  b' Israel clears troops who killed Reuters cam...   \n",
      "4  b'Swedish wrestler Ara Abrahamian throws away ...   \n",
      "\n",
      "                                                Top4  \\\n",
      "0  b'Russian tanks are moving towards the capital...   \n",
      "1  b'Georgian army flees in disarray as Russians ...   \n",
      "2  b\"Al-Qa'eda is losing support in Iraq because ...   \n",
      "3  b'Britain\\'s policy of being tough on drugs is...   \n",
      "4  b'Russia exaggerated the death toll in South O...   \n",
      "\n",
      "                                                Top5  \\\n",
      "0  b\"Afghan children raped with 'impunity,' U.N. ...   \n",
      "1      b\"Olympic opening ceremony fireworks 'faked'\"   \n",
      "2  b'Ceasefire in Georgia: Putin Outmaneuvers the...   \n",
      "3  b'Body of 14 year old found in trunk; Latest (...   \n",
      "4  b'Missile That Killed 9 Inside Pakistan May Ha...   \n",
      "\n",
      "                                                Top6  \\\n",
      "0  b'150 Russian tanks have entered South Ossetia...   \n",
      "1  b'What were the Mossad with fraudulent New Zea...   \n",
      "2  b'Why Microsoft and Intel tried to kill the XO...   \n",
      "3  b'China has moved 10 *million* quake survivors...   \n",
      "4  b\"Rushdie Condemns Random House's Refusal to P...   \n",
      "\n",
      "                                                Top7  \\\n",
      "0  b\"Breaking: Georgia invades South Ossetia, Rus...   \n",
      "1  b'Russia angered by Israeli military sale to G...   \n",
      "2  b'Stratfor: The Russo-Georgian War and the Bal...   \n",
      "3  b\"Bush announces Operation Get All Up In Russi...   \n",
      "4  b'Poland and US agree to missle defense deal. ...   \n",
      "\n",
      "                                                Top8  ...  \\\n",
      "0  b\"The 'enemy combatent' trials are nothing but...  ...   \n",
      "1  b'An American citizen living in S.Ossetia blam...  ...   \n",
      "2  b\"I'm Trying to Get a Sense of This Whole Geor...  ...   \n",
      "3             b'Russian forces sink Georgian ships '  ...   \n",
      "4  b'Will the Russians conquer Tblisi? Bet on it,...  ...   \n",
      "\n",
      "                                               Top17  \\\n",
      "0                b'Al-Qaeda Faces Islamist Backlash'   \n",
      "1  b'\"Do not believe TV, neither Russian nor Geor...   \n",
      "2       b'Why Russias response to Georgia was right'   \n",
      "3  b'US humanitarian missions soon in Georgia - i...   \n",
      "4  b\"Georgia confict could set back Russia's US r...   \n",
      "\n",
      "                                               Top18  \\\n",
      "0  b'Condoleezza Rice: \"The US would not act to p...   \n",
      "1  b'Riots are still going on in Montreal (Canada...   \n",
      "2  b'Gorbachev accuses U.S. of making a \"serious ...   \n",
      "3             b\"Georgia's DDOS came from US sources\"   \n",
      "4  b'War in the Caucasus is as much the product o...   \n",
      "\n",
      "                                               Top19  \\\n",
      "0  b'This is a busy day:  The European Union has ...   \n",
      "1    b'China to overtake US as largest manufacturer'   \n",
      "2         b'Russia, Georgia, and NATO: Cold War Two'   \n",
      "3  b'Russian convoy heads into Georgia, violating...   \n",
      "4  b'\"Non-media\" photos of South Ossetia/Georgia ...   \n",
      "\n",
      "                                               Top20  \\\n",
      "0  b\"Georgia will withdraw 1,000 soldiers from Ir...   \n",
      "1                     b'War in South Ossetia [PICS]'   \n",
      "2  b'Remember that adorable 62-year-old who led y...   \n",
      "3  b'Israeli defence minister: US against strike ...   \n",
      "4  b'Georgian TV reporter shot by Russian sniper ...   \n",
      "\n",
      "                                               Top21  \\\n",
      "0  b'Why the Pentagon Thinks Attacking Iran is a ...   \n",
      "1  b'Israeli Physicians Group Condemns State Tort...   \n",
      "2          b'War in Georgia: The Israeli connection'   \n",
      "3                     b'Gorbachev: We Had No Choice'   \n",
      "4  b'Saudi Arabia: Mother moves to block child ma...   \n",
      "\n",
      "                                               Top22  \\\n",
      "0  b'Caucasus in crisis: Georgia invades South Os...   \n",
      "1  b' Russia has just beaten the United States ov...   \n",
      "2  b'All signs point to the US encouraging Georgi...   \n",
      "3  b'Witness: Russian forces head towards Tbilisi...   \n",
      "4   b'Taliban wages war on humanitarian aid workers'   \n",
      "\n",
      "                                               Top23  \\\n",
      "0  b'Indian shoe manufactory  - And again in a se...   \n",
      "1  b'Perhaps *the* question about the Georgia - R...   \n",
      "2  b'Christopher King argues that the US and NATO...   \n",
      "3  b' Quarter of Russians blame U.S. for conflict...   \n",
      "4  b'Russia: World  \"can forget about\" Georgia\\'s...   \n",
      "\n",
      "                                               Top24  \\\n",
      "0  b'Visitors Suffering from Mental Illnesses Ban...   \n",
      "1                 b'Russia is so much better at war'   \n",
      "2                        b'America: The New Mexico?'   \n",
      "3  b'Georgian president  says US military will ta...   \n",
      "4  b'Darfur rebels accuse Sudan of mounting major...   \n",
      "\n",
      "                                               Top25  \\\n",
      "0           b\"No Help for Mexico's Kidnapping Surge\"   \n",
      "1  b\"So this is what it's come to: trading sex fo...   \n",
      "2  b\"BBC NEWS | Asia-Pacific | Extinction 'by man...   \n",
      "3  b'2006: Nobel laureate Aleksander Solzhenitsyn...   \n",
      "4  b'Philippines : Peace Advocate say Muslims nee...   \n",
      "\n",
      "                                         merged_news  \n",
      "0  ['b\"Georgia \\'downs two Russian warplanes\\' as...  \n",
      "1  [\"b'Why wont America and Nato help us? If they...  \n",
      "2  [\"b'Remember that adorable 9-year-old who sang...  \n",
      "3  [\"b' U.S. refuses Israel weapons to attack Ira...  \n",
      "4  [\"b'All the experts admit that we should legal...  \n",
      "\n",
      "[5 rows x 28 columns]\n"
     ]
    }
   ],
   "source": [
    "# Combining all the headline columns into a single attribute \"merged_news\"\n",
    "\n",
    "news_data[\"merged_news\"] = news_data.filter(regex = (\"Top.*\")).apply(lambda x: ''.join(str(x.values)), axis = 1)\n",
    "print(news_data.head())"
   ]
  },
  {
   "cell_type": "code",
   "execution_count": 4,
   "metadata": {},
   "outputs": [],
   "source": [
    "# Converting the news headlines into a Bag-of-Words model using TF-IDF Vectorizer\n",
    "\n",
    "tfidf_vec = TfidfVectorizer(stop_words = \"english\", ngram_range = (1, 2), use_idf = True)\n",
    "X = tfidf_vec.fit_transform(news_data[\"merged_news\"].values)"
   ]
  },
  {
   "cell_type": "code",
   "execution_count": 5,
   "metadata": {},
   "outputs": [],
   "source": [
    "# Importing the stock data\n",
    "\n",
    "stock_data = pd.read_csv(\"upload_DJIA_table.csv\")\n",
    "\n",
    "stock_data = stock_data.iloc[::-1]\n",
    "stock_data = stock_data.reset_index(drop = True)\n",
    "\n",
    "feature_set = hstack([X, stock_data.iloc[:, 1:4].values])"
   ]
  },
  {
   "cell_type": "code",
   "execution_count": 6,
   "metadata": {},
   "outputs": [],
   "source": [
    "# Sampling data using train_test_split\n",
    "\n",
    "x_train, x_test, y_train, y_test = train_test_split(feature_set, news_data[\"Label\"].values, test_size = 0.30, \n",
    "                                                    random_state = 8)"
   ]
  },
  {
   "cell_type": "code",
   "execution_count": 7,
   "metadata": {},
   "outputs": [
    {
     "name": "stdout",
     "output_type": "stream",
     "text": [
      "Accuracy: 73.70184254606366%\n"
     ]
    }
   ],
   "source": [
    "# Implementing K-Nearest Neighbors to predict the class label\n",
    "\n",
    "neigh = KNeighborsClassifier(n_neighbors = 5)\n",
    "neigh.fit(x_train, y_train)\n",
    "predict_knn = neigh.predict(x_test)\n",
    "knn_acc = accuracy_score(y_test, predict_knn)\n",
    "\n",
    "print(\"Accuracy: \" + str(knn_acc*100) + \"%\")"
   ]
  },
  {
   "cell_type": "code",
   "execution_count": 8,
   "metadata": {},
   "outputs": [
    {
     "name": "stderr",
     "output_type": "stream",
     "text": [
      "/opt/anaconda3/lib/python3.7/site-packages/sklearn/model_selection/_split.py:296: FutureWarning: Setting a random_state has no effect since shuffle is False. This will raise an error in 0.24. You should leave random_state to its default (None), or set shuffle=True.\n",
      "  FutureWarning\n"
     ]
    },
    {
     "name": "stdout",
     "output_type": "stream",
     "text": [
      "Accuracy: 70.19313740419267\n"
     ]
    }
   ],
   "source": [
    "# Since KNN gave the best accuracy,\n",
    "# using K-Fold Cross Validation to validate that the results were not obtained by chance\n",
    "\n",
    "kfold_model = KFold(n_splits = 10, random_state = 7)\n",
    "kfold_result = cross_val_score(neigh, feature_set, news_data[\"Label\"].values, cv = kfold_model)\n",
    "print(\"Accuracy: \" + str(kfold_result.mean()*100.0))"
   ]
  },
  {
   "cell_type": "code",
   "execution_count": 9,
   "metadata": {},
   "outputs": [
    {
     "name": "stdout",
     "output_type": "stream",
     "text": [
      "Accuracy: 55.778894472361806%\n"
     ]
    }
   ],
   "source": [
    "# Implementing Support Vector Machine to predict the class label\n",
    "\n",
    "svm_model = SVC()\n",
    "svm_model.fit(x_train, y_train)\n",
    "predict_svm = svm_model.predict(x_test)\n",
    "svm_acc = accuracy_score(y_test, predict_svm)\n",
    "\n",
    "print(\"Accuracy: \" + str(svm_acc*100) + \"%\")"
   ]
  },
  {
   "cell_type": "code",
   "execution_count": 10,
   "metadata": {},
   "outputs": [
    {
     "name": "stdout",
     "output_type": "stream",
     "text": [
      "Accuracy: 49.246231155778894%\n"
     ]
    }
   ],
   "source": [
    "# Implementing Decision Tree to predict the class label\n",
    "\n",
    "dtree = tree.DecisionTreeClassifier()\n",
    "dtree.fit(x_train, y_train)\n",
    "predict_dtree = dtree.predict(x_test)\n",
    "dtree_acc = accuracy_score(y_test, predict_dtree)\n",
    "\n",
    "print(\"Accuracy: \" + str(dtree_acc*100) + \"%\")"
   ]
  },
  {
   "cell_type": "code",
   "execution_count": 11,
   "metadata": {},
   "outputs": [
    {
     "name": "stdout",
     "output_type": "stream",
     "text": [
      "Accuracy: 52.26130653266332%\n"
     ]
    }
   ],
   "source": [
    "# Implementing Random Forest to predict the class label\n",
    "\n",
    "rf = RandomForestClassifier(n_estimators = 1000)\n",
    "rf.fit(x_train, y_train)\n",
    "predict_rf = rf.predict(x_test)\n",
    "rf_acc = accuracy_score(y_test, predict_rf)\n",
    "\n",
    "print(\"Accuracy: \" + str(rf_acc*100) + \"%\")"
   ]
  },
  {
   "cell_type": "code",
   "execution_count": 12,
   "metadata": {},
   "outputs": [],
   "source": [
    "# Results observed\n",
    "\n",
    "results = []\n",
    "results.append((\"KNN\", knn_acc))\n",
    "results.append((\"SVM\", svm_acc))\n",
    "results.append((\"CART\", dtree_acc))\n",
    "results.append((\"RF\", rf_acc))"
   ]
  },
  {
   "cell_type": "code",
   "execution_count": 13,
   "metadata": {},
   "outputs": [
    {
     "name": "stdout",
     "output_type": "stream",
     "text": [
      "[('KNN', 0.7370184254606366), ('SVM', 0.5577889447236181), ('CART', 0.49246231155778897), ('RF', 0.5226130653266332)]\n"
     ]
    }
   ],
   "source": [
    "print(results)"
   ]
  }
 ],
 "metadata": {
  "kernelspec": {
   "display_name": "Python 3",
   "language": "python",
   "name": "python3"
  },
  "language_info": {
   "codemirror_mode": {
    "name": "ipython",
    "version": 3
   },
   "file_extension": ".py",
   "mimetype": "text/x-python",
   "name": "python",
   "nbconvert_exporter": "python",
   "pygments_lexer": "ipython3",
   "version": "3.7.4"
  }
 },
 "nbformat": 4,
 "nbformat_minor": 2
}
